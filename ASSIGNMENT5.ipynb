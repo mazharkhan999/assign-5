{
 "cells": [
  {
   "cell_type": "code",
   "execution_count": 1,
   "metadata": {},
   "outputs": [
    {
     "name": "stdout",
     "output_type": "stream",
     "text": [
      "which number factorial you want?: 7\n",
      "The factorial of 7 is 5040\n"
     ]
    }
   ],
   "source": [
    "#ASSIGNMENT 5\n",
    "#Q1:\n",
    "def fact():\n",
    "    \n",
    "    num = int(input(\"which number factorial you want?: \"))\n",
    "    factorial = 1\n",
    "# check if the number is negative, positive or zero\n",
    "    if num < 0:\n",
    "       print(\"Sorry, factorial does not exist for negative numbers\")\n",
    "    elif num == 0:\n",
    "       print(\"The factorial of 0 is 1\")\n",
    "    else:\n",
    "       for i in range(1,num + 1):\n",
    "           factorial = factorial*i\n",
    "       print(\"The factorial of\",num,\"is\",factorial)\n",
    "\n",
    "fact()"
   ]
  },
  {
   "cell_type": "code",
   "execution_count": 2,
   "metadata": {},
   "outputs": [
    {
     "name": "stdout",
     "output_type": "stream",
     "text": [
      "The number of lowercase characters is:\n",
      "10\n",
      "The number of uppercase characters is:\n",
      "2\n"
     ]
    }
   ],
   "source": [
    "#q2\n",
    "def func(string):\n",
    "    count1=0\n",
    "    count2=0\n",
    "    for i in string:\n",
    "          if(i.islower()):\n",
    "                count1=count1+1\n",
    "          elif(i.isupper()):\n",
    "                count2=count2+1\n",
    "    print(\"The number of lowercase characters is:\")\n",
    "    print(count1)\n",
    "    print(\"The number of uppercase characters is:\")\n",
    "    print(count2)\n",
    "    \n",
    "func('SamaraMohsin')"
   ]
  },
  {
   "cell_type": "code",
   "execution_count": 3,
   "metadata": {},
   "outputs": [
    {
     "name": "stdout",
     "output_type": "stream",
     "text": [
      "[2, 4, 6, 8]\n"
     ]
    }
   ],
   "source": [
    "#Q3\n",
    "def is_even_num(l):\n",
    "    enum = []\n",
    "    for n in l:\n",
    "        if n % 2 == 0:\n",
    "            enum.append(n)\n",
    "    return enum\n",
    "print(is_even_num([1, 2, 3, 4, 5, 6, 7, 8, 9]))\n",
    " "
   ]
  },
  {
   "cell_type": "code",
   "execution_count": 5,
   "metadata": {},
   "outputs": [
    {
     "name": "stdout",
     "output_type": "stream",
     "text": [
      "Enter string?: AZA\n",
      "The given word is palindrom\n"
     ]
    }
   ],
   "source": [
    "#Q4\n",
    "def isPalindrome():\n",
    "    s=input('Enter string?: ')\n",
    "    rev= s[::-1] \n",
    "  \n",
    "    # Checking if both string are equal or not \n",
    "    if (s == rev): \n",
    "        print('The given word is palindrom')\n",
    "    else:\n",
    "        print('The given word is not a palindrom')\n",
    "        \n",
    "isPalindrome()\n"
   ]
  },
  {
   "cell_type": "code",
   "execution_count": 7,
   "metadata": {},
   "outputs": [
    {
     "name": "stdout",
     "output_type": "stream",
     "text": [
      "Enter a number: 56\n",
      "56 is not a prime number\n"
     ]
    }
   ],
   "source": [
    "#Q5:\n",
    "def prime():\n",
    "    num = int(input(\"Enter a number: \"))  \n",
    "  \n",
    "    if num > 1:  \n",
    "        for i in range(2,num):  \n",
    "           if (num % i) == 0:  \n",
    "               print(num,\"is not a prime number\")    \n",
    "               break  \n",
    "        else:  \n",
    "           print(num,\"is a prime number\")  \n",
    "             \n",
    "    else:\n",
    "        print(num,\"is not a prime number\") \n",
    "\n",
    "prime()"
   ]
  },
  {
   "cell_type": "code",
   "execution_count": 8,
   "metadata": {},
   "outputs": [
    {
     "name": "stdout",
     "output_type": "stream",
     "text": [
      "Shopping List: \n",
      "Vegetables\n",
      "fruits\n",
      "meat\n",
      "sweets\n",
      "cutlery\n"
     ]
    }
   ],
   "source": [
    "#Q6\n",
    "def Shopping(*shopping_list):\n",
    "    for items in shopping_list:\n",
    "        print(items)\n",
    "\n",
    "print(\"Shopping List: \")\n",
    "Shopping('Vegetables','fruits','meat','sweets','cutlery',)"
   ]
  },
  {
   "cell_type": "code",
   "execution_count": null,
   "metadata": {},
   "outputs": [],
   "source": []
  }
 ],
 "metadata": {
  "kernelspec": {
   "display_name": "Python 3",
   "language": "python",
   "name": "python3"
  },
  "language_info": {
   "codemirror_mode": {
    "name": "ipython",
    "version": 3
   },
   "file_extension": ".py",
   "mimetype": "text/x-python",
   "name": "python",
   "nbconvert_exporter": "python",
   "pygments_lexer": "ipython3",
   "version": "3.7.4"
  }
 },
 "nbformat": 4,
 "nbformat_minor": 2
}
